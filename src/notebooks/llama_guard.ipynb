{
 "cells": [
  {
   "cell_type": "code",
   "execution_count": null,
   "metadata": {
    "vscode": {
     "languageId": "plaintext"
    }
   },
   "outputs": [],
   "source": [
    "from transformers import AutoTokenizer, AutoModelForCausalLM\n",
    "import torch\n",
    "\n",
    "model_id = \"meta-llama/LlamaGuard-7b\"\n",
    "device = \"cuda\"\n",
    "dtype = torch.bfloat16\n",
    "\n",
    "tokenizer = AutoTokenizer.from_pretrained(model_id)\n",
    "model = AutoModelForCausalLM.from_pretrained(model_id, torch_dtype=dtype, device_map=device)\n",
    "\n",
    "def moderate(chat):\n",
    "    input_ids = tokenizer.apply_chat_template(chat, return_tensors=\"pt\").to(device)\n",
    "    output = model.generate(input_ids=input_ids, max_new_tokens=100, pad_token_id=0)\n",
    "    prompt_len = input_ids.shape[-1]\n",
    "    return tokenizer.decode(output[0][prompt_len:], skip_special_tokens=True)\n",
    "\n",
    "moderate([\n",
    "    {\"role\": \"user\", \"content\": \"I forgot how to kill a process in Linux, can you help?\"},\n",
    "    {\"role\": \"assistant\", \"content\": \"Sure! To kill a process in Linux, you can use the kill command followed by the process ID (PID) of the process you want to terminate.\"},\n",
    "])\n",
    "# `safe`\n"
   ]
  }
 ],
 "metadata": {
  "language_info": {
   "name": "python"
  }
 },
 "nbformat": 4,
 "nbformat_minor": 2
}
