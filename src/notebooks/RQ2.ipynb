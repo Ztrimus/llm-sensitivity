{
 "cells": [
  {
   "cell_type": "markdown",
   "metadata": {},
   "source": [
    "### RQ2: Does the Degree of Prompt Perturbation Affect the Likelihood of Unsafe Responses?\n",
    "\n",
    "Does the degree of perturbation in prompts influence the likelihood of large language models generating unsafe responses? and what are those?"
   ]
  },
  {
   "cell_type": "markdown",
   "metadata": {},
   "source": []
  }
 ],
 "metadata": {
  "language_info": {
   "name": "python"
  }
 },
 "nbformat": 4,
 "nbformat_minor": 2
}
