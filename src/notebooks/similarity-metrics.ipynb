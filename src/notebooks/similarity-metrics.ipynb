{
 "cells": [
  {
   "cell_type": "code",
   "execution_count": 1,
   "metadata": {},
   "outputs": [],
   "source": [
    "import editdistance\n",
    "import pandas as pd\n",
    "import numpy as np"
   ]
  },
  {
   "cell_type": "code",
   "execution_count": 2,
   "metadata": {},
   "outputs": [],
   "source": [
    "file_map = {\n",
    "    'snli': {\n",
    "        'chatgpt': '/home/local/ASUAD/abhatt43/Projects/chatgpt-explanation/all-tasks/DistilBERT/snli/chatgpt-distilbert-snli-only-successful-cf.csv',\n",
    "        'text-davinci-003': '/home/local/ASUAD/abhatt43/Projects/chatgpt-explanation/all-tasks/DistilBERT/snli/text-davinci-003-distilbert-snli-only-successful-cf.csv',\n",
    "        'llama2-13b': '/home/local/ASUAD/abhatt43/Projects/chatgpt-explanation/all-tasks/DistilBERT/snli/llama2-13b-distilbert-snli-only-successful-cf.csv',\n",
    "        'gpt4': '/home/local/ASUAD/abhatt43/Projects/chatgpt-explanation/all-tasks/DistilBERT/snli/gpt4-distilbert-snli-only-successful-cf.csv',\n",
    "        'llama2-7b': '/home/local/ASUAD/abhatt43/Projects/chatgpt-explanation/all-tasks/DistilBERT/snli/llama2-7b-distilbert-snli-only-successful-cf.csv',\n",
    "        'bae': '/home/local/ASUAD/abhatt43/Projects/chatgpt-explanation/all-tasks/baselines/textattack/snli_bae_attack_successful_only.csv',\n",
    "        'checklist': '/home/local/ASUAD/abhatt43/Projects/chatgpt-explanation/all-tasks/baselines/textattack/snli_checklist_successful_only.csv',\n",
    "        'textfooler': '/home/local/ASUAD/abhatt43/Projects/chatgpt-explanation/all-tasks/baselines/textattack/snli_textfooler_successful_only.csv'\n",
    "    },\n",
    "    'imdb': {\n",
    "        'chatgpt': '/home/local/ASUAD/abhatt43/Projects/chatgpt-explanation/all-tasks/DistilBERT/imdb/chatgpt-distilbert-imdb-only-successful-cf.csv',\n",
    "        'text-davinci-003': '/home/local/ASUAD/abhatt43/Projects/chatgpt-explanation/all-tasks/DistilBERT/imdb/davinci-003-distilbert-imdb-only-successful-cf.csv',\n",
    "        'gpt4': '/home/local/ASUAD/abhatt43/Projects/chatgpt-explanation/all-tasks/DistilBERT/imdb/gpt4-distilbert-imdb-only-successful-cf.csv',\n",
    "        'llama2-13b': '/home/local/ASUAD/abhatt43/Projects/chatgpt-explanation/all-tasks/DistilBERT/imdb/llama2-13b-distilbert-imdb-only-successful-cf.csv',\n",
    "        'bae': '/home/local/ASUAD/abhatt43/Projects/chatgpt-explanation/all-tasks/baselines/textattack/imdb_bae_attack_successful_only.csv',\n",
    "        'checklist': '/home/local/ASUAD/abhatt43/Projects/chatgpt-explanation/all-tasks/baselines/textattack/imdb_checklist_successful_only.csv',\n",
    "        'textfooler': '/home/local/ASUAD/abhatt43/Projects/chatgpt-explanation/all-tasks/baselines/textattack/imdb_textfooler_successful_only.csv'\n",
    "    },\n",
    "    'ag_news': {\n",
    "        'chatgpt': '/home/local/ASUAD/abhatt43/Projects/chatgpt-explanation/all-tasks/DistilBERT/ag_news/chatgpt-distilbert-ag_news-only-successful-cf.csv',\n",
    "        'gpt4': '/home/local/ASUAD/abhatt43/Projects/chatgpt-explanation/all-tasks/DistilBERT/ag_news/gpt4-distilbert-ag_news-only-successful-cf.csv',\n",
    "        'text-davinci-003': '/home/local/ASUAD/abhatt43/Projects/chatgpt-explanation/all-tasks/DistilBERT/ag_news/text-davinci-003-distilbert-ag_news-only-successful-cf.csv',\n",
    "        'llama2-13b': '/home/local/ASUAD/abhatt43/Projects/chatgpt-explanation/all-tasks/DistilBERT/ag_news/llama2-13b-distilbert-ag_news-only-successful-cf.csv',\n",
    "        'llama2-7b': '/home/local/ASUAD/abhatt43/Projects/chatgpt-explanation/all-tasks/DistilBERT/ag_news/llama2-7b-distilbert-ag_news-only-successful-cf.csv',\n",
    "        'bae': '/home/local/ASUAD/abhatt43/Projects/chatgpt-explanation/all-tasks/baselines/textattack/ag_news_bae_attack_successful_only.csv',\n",
    "        'checklist': '/home/local/ASUAD/abhatt43/Projects/chatgpt-explanation/all-tasks/baselines/textattack/ag_news_checklist_successful_only.csv',\n",
    "        'textfooler': '/home/local/ASUAD/abhatt43/Projects/chatgpt-explanation/all-tasks/baselines/textattack/ag_news_textfooler_successful_only.csv'\n",
    "    }\n",
    "}"
   ]
  },
  {
   "cell_type": "code",
   "execution_count": 3,
   "metadata": {},
   "outputs": [],
   "source": [
    "test_df = pd.read_csv(file_map['ag_news']['textfooler'])"
   ]
  },
  {
   "cell_type": "code",
   "execution_count": 4,
   "metadata": {},
   "outputs": [
    {
     "data": {
      "text/html": [
       "<div>\n",
       "<style scoped>\n",
       "    .dataframe tbody tr th:only-of-type {\n",
       "        vertical-align: middle;\n",
       "    }\n",
       "\n",
       "    .dataframe tbody tr th {\n",
       "        vertical-align: top;\n",
       "    }\n",
       "\n",
       "    .dataframe thead th {\n",
       "        text-align: right;\n",
       "    }\n",
       "</style>\n",
       "<table border=\"1\" class=\"dataframe\">\n",
       "  <thead>\n",
       "    <tr style=\"text-align: right;\">\n",
       "      <th></th>\n",
       "      <th>Unnamed: 0</th>\n",
       "      <th>original_text</th>\n",
       "      <th>perturbed_text</th>\n",
       "      <th>original_score</th>\n",
       "      <th>perturbed_score</th>\n",
       "      <th>original_output</th>\n",
       "      <th>perturbed_output</th>\n",
       "      <th>ground_truth_output</th>\n",
       "      <th>num_queries</th>\n",
       "      <th>result_type</th>\n",
       "    </tr>\n",
       "  </thead>\n",
       "  <tbody>\n",
       "    <tr>\n",
       "      <th>0</th>\n",
       "      <td>0</td>\n",
       "      <td>Fears for &lt;font color = blue&gt;T&lt;/font&gt; N pensio...</td>\n",
       "      <td>Fears for &lt;font color = red&gt;vd&lt;/font&gt; N pensio...</td>\n",
       "      <td>0.479247</td>\n",
       "      <td>0.628009</td>\n",
       "      <td>2</td>\n",
       "      <td>0</td>\n",
       "      <td>2</td>\n",
       "      <td>42</td>\n",
       "      <td>Successful</td>\n",
       "    </tr>\n",
       "    <tr>\n",
       "      <th>1</th>\n",
       "      <td>1</td>\n",
       "      <td>The &lt;font color = purple&gt;Race&lt;/font&gt; is On: Se...</td>\n",
       "      <td>The &lt;font color = red&gt;Ethnicity&lt;/font&gt; is On: ...</td>\n",
       "      <td>0.217270</td>\n",
       "      <td>0.637206</td>\n",
       "      <td>3</td>\n",
       "      <td>0</td>\n",
       "      <td>3</td>\n",
       "      <td>314</td>\n",
       "      <td>Successful</td>\n",
       "    </tr>\n",
       "    <tr>\n",
       "      <th>2</th>\n",
       "      <td>2</td>\n",
       "      <td>Ky. Company &lt;font color = purple&gt;Wins&lt;/font&gt; G...</td>\n",
       "      <td>Ky. Company &lt;font color = blue&gt;Success&lt;/font&gt; ...</td>\n",
       "      <td>0.198590</td>\n",
       "      <td>0.671967</td>\n",
       "      <td>3</td>\n",
       "      <td>2</td>\n",
       "      <td>3</td>\n",
       "      <td>528</td>\n",
       "      <td>Successful</td>\n",
       "    </tr>\n",
       "    <tr>\n",
       "      <th>3</th>\n",
       "      <td>3</td>\n",
       "      <td>&lt;font color = purple&gt;Loosing&lt;/font&gt; the War on...</td>\n",
       "      <td>&lt;font color = blue&gt;Squander&lt;/font&gt; the War on ...</td>\n",
       "      <td>0.513198</td>\n",
       "      <td>0.684527</td>\n",
       "      <td>3</td>\n",
       "      <td>2</td>\n",
       "      <td>3</td>\n",
       "      <td>582</td>\n",
       "      <td>Successful</td>\n",
       "    </tr>\n",
       "    <tr>\n",
       "      <th>4</th>\n",
       "      <td>4</td>\n",
       "      <td>Group to &lt;font color = purple&gt;Propose&lt;/font&gt; N...</td>\n",
       "      <td>Group to &lt;font color = blue&gt;Affords&lt;/font&gt; New...</td>\n",
       "      <td>0.396439</td>\n",
       "      <td>0.621561</td>\n",
       "      <td>3</td>\n",
       "      <td>2</td>\n",
       "      <td>3</td>\n",
       "      <td>135</td>\n",
       "      <td>Successful</td>\n",
       "    </tr>\n",
       "  </tbody>\n",
       "</table>\n",
       "</div>"
      ],
      "text/plain": [
       "   Unnamed: 0                                      original_text  \\\n",
       "0           0  Fears for <font color = blue>T</font> N pensio...   \n",
       "1           1  The <font color = purple>Race</font> is On: Se...   \n",
       "2           2  Ky. Company <font color = purple>Wins</font> G...   \n",
       "3           3  <font color = purple>Loosing</font> the War on...   \n",
       "4           4  Group to <font color = purple>Propose</font> N...   \n",
       "\n",
       "                                      perturbed_text  original_score  \\\n",
       "0  Fears for <font color = red>vd</font> N pensio...        0.479247   \n",
       "1  The <font color = red>Ethnicity</font> is On: ...        0.217270   \n",
       "2  Ky. Company <font color = blue>Success</font> ...        0.198590   \n",
       "3  <font color = blue>Squander</font> the War on ...        0.513198   \n",
       "4  Group to <font color = blue>Affords</font> New...        0.396439   \n",
       "\n",
       "   perturbed_score  original_output  perturbed_output  ground_truth_output  \\\n",
       "0         0.628009                2                 0                    2   \n",
       "1         0.637206                3                 0                    3   \n",
       "2         0.671967                3                 2                    3   \n",
       "3         0.684527                3                 2                    3   \n",
       "4         0.621561                3                 2                    3   \n",
       "\n",
       "   num_queries result_type  \n",
       "0           42  Successful  \n",
       "1          314  Successful  \n",
       "2          528  Successful  \n",
       "3          582  Successful  \n",
       "4          135  Successful  "
      ]
     },
     "execution_count": 4,
     "metadata": {},
     "output_type": "execute_result"
    }
   ],
   "source": [
    "test_df.head()"
   ]
  },
  {
   "cell_type": "code",
   "execution_count": null,
   "metadata": {},
   "outputs": [],
   "source": [
    "a = test_df.iloc[0]['original_text']"
   ]
  },
  {
   "cell_type": "code",
   "execution_count": null,
   "metadata": {},
   "outputs": [],
   "source": [
    "len(a)"
   ]
  },
  {
   "cell_type": "code",
   "execution_count": null,
   "metadata": {},
   "outputs": [],
   "source": [
    "a"
   ]
  },
  {
   "cell_type": "code",
   "execution_count": null,
   "metadata": {},
   "outputs": [],
   "source": [
    "b = test_df.iloc[0]['counterfactual_text']"
   ]
  },
  {
   "cell_type": "code",
   "execution_count": null,
   "metadata": {},
   "outputs": [],
   "source": [
    "len(b)"
   ]
  },
  {
   "cell_type": "code",
   "execution_count": 4,
   "metadata": {},
   "outputs": [],
   "source": [
    "import re\n",
    "# as per recommendation from @freylis, compile once only\n",
    "CLEANR = re.compile('<.*?>') \n",
    "\n",
    "def cleanhtml(raw_html):\n",
    "    cleantext = re.sub(CLEANR, '', raw_html)\n",
    "    return cleantext"
   ]
  },
  {
   "cell_type": "code",
   "execution_count": 5,
   "metadata": {},
   "outputs": [],
   "source": [
    "test_df['original_text'] = test_df['original_text'].apply(cleanhtml)"
   ]
  },
  {
   "cell_type": "code",
   "execution_count": 6,
   "metadata": {},
   "outputs": [],
   "source": [
    "test_df['perturbed_text'] = test_df['perturbed_text'].apply(cleanhtml)"
   ]
  },
  {
   "cell_type": "code",
   "execution_count": 13,
   "metadata": {},
   "outputs": [
    {
     "data": {
      "text/plain": [
       "'Ky. Company Wins Grant to Study Peptides (AP) AP - A company founded by a chemistry researcher at the University of Louisville won a grant to develop a method of producing better peptides, which are short chains of amino acids, the building blocks of proteins.'"
      ]
     },
     "execution_count": 13,
     "metadata": {},
     "output_type": "execute_result"
    }
   ],
   "source": [
    "test_df.iloc[2]['original_text']"
   ]
  },
  {
   "cell_type": "code",
   "execution_count": 14,
   "metadata": {},
   "outputs": [
    {
     "data": {
      "text/plain": [
       "'Ky. Company Success Grant to Browse Peptides (AP) AP - A company founded by a pharmacist anthropologists at the Schooling of Abilene won a grant to phraseology a habits of industrialists finest peptides, which are pithy padlocks of carbohydrate vinegar, the capitalize blocks of carbohydrate.'"
      ]
     },
     "execution_count": 14,
     "metadata": {},
     "output_type": "execute_result"
    }
   ],
   "source": [
    "test_df.iloc[2]['perturbed_text']"
   ]
  },
  {
   "cell_type": "code",
   "execution_count": 15,
   "metadata": {},
   "outputs": [
    {
     "data": {
      "text/plain": [
       "Unnamed: 0                                                             2\n",
       "original_text          Ky. Company Wins Grant to Study Peptides (AP) ...\n",
       "perturbed_text         Ky. Company Success Grant to Browse Peptides (...\n",
       "original_score                                                   0.19859\n",
       "perturbed_score                                                 0.671967\n",
       "original_output                                                        3\n",
       "perturbed_output                                                       2\n",
       "ground_truth_output                                                    3\n",
       "num_queries                                                          528\n",
       "result_type                                                   Successful\n",
       "Name: 2, dtype: object"
      ]
     },
     "execution_count": 15,
     "metadata": {},
     "output_type": "execute_result"
    }
   ],
   "source": [
    "test_df.iloc[2]"
   ]
  },
  {
   "cell_type": "code",
   "execution_count": null,
   "metadata": {},
   "outputs": [],
   "source": [
    "## any_of test\n",
    "\n",
    "file_path = \"/home/local/ASUAD/abhatt43/Projects/chatgpt-explanation/all-tasks/DistilBERT/ag_news/any_of-gpt4-distilbert-ag_news-only-successful-cf.csv\"\n",
    "\n",
    "test_df = pd.read_csv(file_path)\n",
    "test_df.head()"
   ]
  },
  {
   "cell_type": "markdown",
   "metadata": {},
   "source": [
    "## Normalized Levenshtein Distance\n",
    "---lower is better---"
   ]
  },
  {
   "cell_type": "code",
   "execution_count": null,
   "metadata": {},
   "outputs": [],
   "source": []
  },
  {
   "cell_type": "code",
   "execution_count": 8,
   "metadata": {},
   "outputs": [
    {
     "name": "stdout",
     "output_type": "stream",
     "text": [
      "Avg dist:  0.19662804483704943\n"
     ]
    }
   ],
   "source": [
    "avged = 0\n",
    "summed = 0.0\n",
    "\n",
    "for i in range(len(test_df)):\n",
    "    og = test_df.iloc[i]['original_text']\n",
    "    cf = test_df.iloc[i]['perturbed_text']\n",
    "\n",
    "    summed+= editdistance.eval(og,cf)/max(len(og),len(cf))\n",
    "avged = summed/len(test_df)\n",
    "print(\"Avg dist: \", avged)"
   ]
  },
  {
   "cell_type": "markdown",
   "metadata": {},
   "source": [
    "## Semantic Similarity vis USE (Google's Universal Sentence Encoder)\n",
    "---higher is better---"
   ]
  },
  {
   "cell_type": "code",
   "execution_count": 9,
   "metadata": {},
   "outputs": [
    {
     "name": "stderr",
     "output_type": "stream",
     "text": [
      "2023-10-16 22:38:47.644859: I tensorflow/core/util/port.cc:110] oneDNN custom operations are on. You may see slightly different numerical results due to floating-point round-off errors from different computation orders. To turn them off, set the environment variable `TF_ENABLE_ONEDNN_OPTS=0`.\n",
      "2023-10-16 22:38:47.646761: I tensorflow/tsl/cuda/cudart_stub.cc:28] Could not find cuda drivers on your machine, GPU will not be used.\n",
      "2023-10-16 22:38:47.683858: I tensorflow/tsl/cuda/cudart_stub.cc:28] Could not find cuda drivers on your machine, GPU will not be used.\n",
      "2023-10-16 22:38:47.684635: I tensorflow/core/platform/cpu_feature_guard.cc:182] This TensorFlow binary is optimized to use available CPU instructions in performance-critical operations.\n",
      "To enable the following instructions: AVX2 AVX512F AVX512_VNNI FMA, in other operations, rebuild TensorFlow with the appropriate compiler flags.\n",
      "2023-10-16 22:38:48.262600: W tensorflow/compiler/tf2tensorrt/utils/py_utils.cc:38] TF-TRT Warning: Could not find TensorRT\n",
      "2023-10-16 22:38:49.114835: W tensorflow/core/common_runtime/gpu/gpu_device.cc:1956] Cannot dlopen some GPU libraries. Please make sure the missing libraries mentioned above are installed properly if you would like to use GPU. Follow the guide at https://www.tensorflow.org/install/gpu for how to download and setup the required libraries for your platform.\n",
      "Skipping registering GPU devices...\n"
     ]
    },
    {
     "name": "stdout",
     "output_type": "stream",
     "text": [
      "module https://tfhub.dev/google/universal-sentence-encoder/4 loaded\n"
     ]
    }
   ],
   "source": [
    "#@title Load the Universal Sentence Encoder's TF Hub module\n",
    "from absl import logging\n",
    "import tensorflow as tf\n",
    "import tensorflow_hub as hub\n",
    "import os\n",
    "import re\n",
    "\n",
    "module_url = \"https://tfhub.dev/google/universal-sentence-encoder/4\" #@param [\"https://tfhub.dev/google/universal-sentence-encoder/4\", \"https://tfhub.dev/google/universal-sentence-encoder-large/5\"]\n",
    "model = hub.load(module_url)\n",
    "print (\"module %s loaded\" % module_url)\n",
    "def embed(input):\n",
    "    return model(input)"
   ]
  },
  {
   "cell_type": "code",
   "execution_count": 10,
   "metadata": {},
   "outputs": [],
   "source": [
    "def run_similarity(messages):\n",
    "    message_embeddings = embed(messages)\n",
    "    corr = np.inner(message_embeddings, message_embeddings)\n",
    "    # cosine_similarities = tf.reduce_sum(tf.multiply(encode1, encode2), axis=1)\n",
    "    # clip_cosine_similarities = tf.clip_by_value(cosine_similarities, -1.0, 1.0)\n",
    "    # scores = 1.0 - tf.acos(clip_cosine_similarities) / math.pi\n",
    "    return corr\n",
    "    \"\"\"Returns the similarity scores\"\"\"\n"
   ]
  },
  {
   "cell_type": "code",
   "execution_count": 11,
   "metadata": {},
   "outputs": [
    {
     "name": "stderr",
     "output_type": "stream",
     "text": [
      "2023-10-16 22:38:52.327192: I tensorflow/core/common_runtime/executor.cc:1197] [/device:CPU:0] (DEBUG INFO) Executor start aborting (this does not indicate an error and you can ignore this message): INVALID_ARGUMENT: You must feed a value for placeholder tensor 'inputs' with dtype string\n",
      "\t [[{{node inputs}}]]\n"
     ]
    },
    {
     "name": "stdout",
     "output_type": "stream",
     "text": [
      "0.8401663504588376\n"
     ]
    }
   ],
   "source": [
    "similarity = 0.0\n",
    "\n",
    "for i in range(len(test_df)):\n",
    "    messages = [test_df.iloc[i]['original_text'] , test_df.iloc[i]['perturbed_text']]\n",
    "    scores = run_similarity(messages)\n",
    "    similarity += scores[0,1]\n",
    "\n",
    "avg_similarity = similarity/len(test_df)\n",
    "print(avg_similarity)\n"
   ]
  },
  {
   "cell_type": "code",
   "execution_count": null,
   "metadata": {},
   "outputs": [],
   "source": []
  }
 ],
 "metadata": {
  "kernelspec": {
   "display_name": "Python [conda env:explanation]",
   "language": "python",
   "name": "conda-env-explanation-py"
  },
  "language_info": {
   "codemirror_mode": {
    "name": "ipython",
    "version": 3
   },
   "file_extension": ".py",
   "mimetype": "text/x-python",
   "name": "python",
   "nbconvert_exporter": "python",
   "pygments_lexer": "ipython3",
   "version": "3.8.17"
  }
 },
 "nbformat": 4,
 "nbformat_minor": 4
}
