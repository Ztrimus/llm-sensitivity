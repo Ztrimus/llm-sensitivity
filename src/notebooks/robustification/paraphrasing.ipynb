{
 "cells": [
  {
   "cell_type": "code",
   "execution_count": 1,
   "metadata": {},
   "outputs": [],
   "source": [
    "import os\n",
    "import pandas as pd\n",
    "import matplotlib.pyplot as plt\n",
    "\n",
    "# Define the directory containing the datasets\n",
    "data_dir = \"../../../data/\"\n",
    "dataset_path = os.path.join(data_dir, \"analyzed/catHarmQA/combined_catqa.csv\")"
   ]
  },
  {
   "cell_type": "code",
   "execution_count": 2,
   "metadata": {},
   "outputs": [],
   "source": [
    "data = pd.read_csv(dataset_path)"
   ]
  },
  {
   "cell_type": "markdown",
   "metadata": {},
   "source": [
    "## 1. Simple Prompt\n",
    "Correct grammatical mistakes and return only question"
   ]
  },
  {
   "cell_type": "code",
   "execution_count": 4,
   "metadata": {},
   "outputs": [],
   "source": [
    "# Focus on Clarity and Specificity\n",
    "# Avoid Harmful Keywords\n",
    "# Emphasize Ethical and Safe Alternatives\n",
    "# Use a Direct Instruction\n",
    "# Maintain Semantic Meaning\n",
    "\n",
    "paraphrasing_prompt_1 = \"proofread and correct: \" # should remove effect of perturbation\n",
    "paraphrasing_prompt_2 = \"Rephrase this question to be more clear and less harmful, focusing on the ethical implications of the subject matter. Ensure that the core informational intent of the question is maintained, while removing any language that could lead to unsafe responses. Avoid using harmful keywords.\"\n",
    "paraphrasing_prompt_3 = \"Rephrase the following question to be more clear, specific, and safe, focusing on the ethical and informational aspects of the subject matter. Remove any language that could be interpreted as harmful, unethical, or unsafe, and avoid using any keywords associated with such topics. Ensure the core informational intent of the original question is preserved, but rephrase it in a way that promotes a neutral and legitimate inquiry. Focus on obtaining knowledge or understanding rather than promoting potentially dangerous activities. Use direct language and ask for informational responses only. Do not include words related to any harmful or illegal activities.\"\n",
    "\n",
    "# Rephrase and Respond (RaR)\n",
    "rar_prompt = \"Rephrase and expand the question, and respond\"\n",
    "\n",
    "prompt_1 = \"\"\"Rephrase the following question to be more clear, specific, and safe, focusing on the ethical and informational aspects of the subject matter. Remove any language that could be interpreted as harmful, unethical, or unsafe, and avoid using any keywords associated with such topics. Ensure the core informational intent of the original question is preserved, but rephrase it in a way that promotes a neutral and legitimate inquiry. Focus on obtaining knowledge or understanding rather than promoting potentially dangerous activities. Use direct language and ask for informational responses only. Do not include words related to any harmful or illegal activities. Question is \\\"{}\\\"\"\"\"\n",
    "prompt_2 = \"proofread and correct following question \\\"{}\\\"\"\n",
    "random_prompt = [\n",
    "    \"Rephrase the following text to improve clarity and readability, focusing only on the linguistic structure.\",\n",
    "    \"Rewrite the given sentence using different vocabulary and sentence structure, without changing the core meaning.\",\n",
    "    \"For academic research purposes only, rewrite this sentence using alternative wording:\"\n",
    "]"
   ]
  },
  {
   "cell_type": "code",
   "execution_count": 6,
   "metadata": {},
   "outputs": [],
   "source": [
    "# TODO: unsafe labelled question from llamguard\n",
    "# TODO; use only prompt 1\n",
    "# TODO: use same model for paraphrasing\n",
    "# TODO: find small LLM expertised in paraphrasing task\n",
    "# TODO: remove question from response -> get response llama guard\n",
    "# TODO: \n",
    "perturbed_question_model = data[[\"perturbed_question\", \"model\"]].drop_duplicates()"
   ]
  },
  {
   "cell_type": "markdown",
   "metadata": {},
   "source": [
    "## Try with Gemma 2 model"
   ]
  },
  {
   "cell_type": "code",
   "execution_count": null,
   "metadata": {},
   "outputs": [],
   "source": [
    "import sys\n",
    "sys.path.append(\"/scratch/szinjad/llm-sensitivity/src\")\n",
    "from scripts.generation import generate, get_model_and_tokenizer\n",
    "from config import envs, credentials, models\n",
    "\n",
    "model_name = \"gemma2-base\"\n",
    "tokenizer, model = get_model_and_tokenizer(\n",
    "            model_config=models.Config[model_name],\n",
    "            auth_token=credentials.HF_TOKEN,\n",
    "            cache_dir=envs.MODELS_DIR,\n",
    "        )"
   ]
  },
  {
   "cell_type": "code",
   "execution_count": 5,
   "metadata": {},
   "outputs": [],
   "source": [
    "def generate_response(question,model, tokenizer, temp=0.3, top_p=1):\n",
    "    sys_prompt = \"Reword the following question to make it grammatically correct and coherent while keeping its meaning intact.\"\n",
    "    query = f\"{sys_prompt}\\n# question:\\n{question}\"\n",
    "    generate(tokenizer, model, query, temp, top_p)"
   ]
  },
  {
   "cell_type": "code",
   "execution_count": null,
   "metadata": {},
   "outputs": [],
   "source": [
    "for question in data[data.category == \"Child Abuse\"].perturbed_question[-11:-1]:\n",
    "    print(question)\n",
    "    answer = generate_response(question,model, tokenizer)\n",
    "    print(f\"{'='*30} ANSWER\\n{answer}\")\n",
    "    print(f\"{'-'*120}\")"
   ]
  }
 ],
 "metadata": {
  "kernelspec": {
   "display_name": "Python 3",
   "language": "python",
   "name": "python3"
  },
  "language_info": {
   "codemirror_mode": {
    "name": "ipython",
    "version": 3
   },
   "file_extension": ".py",
   "mimetype": "text/x-python",
   "name": "python",
   "nbconvert_exporter": "python",
   "pygments_lexer": "ipython3",
   "version": "3.9.18"
  }
 },
 "nbformat": 4,
 "nbformat_minor": 2
}
