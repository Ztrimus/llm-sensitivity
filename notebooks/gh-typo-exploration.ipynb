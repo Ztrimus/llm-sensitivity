{
 "cells": [
  {
   "cell_type": "markdown",
   "metadata": {},
   "source": [
    "### What is a Typo?\n",
    "- A typo (short for \"typographical error\") is a mistake made in the typing process of written material.  - This can include:\n",
    "    - misspellings, \n",
    "    - incorrect punctuation, \n",
    "    - misplaced spaces, and \n",
    "    - other errors that occur during writing or editing text. \n",
    "- In the context of programming and documentation, typos can also include syntax errors, incorrect variable names, or other mistakes that could potentially cause errors or confusion."
   ]
  },
  {
   "cell_type": "markdown",
   "metadata": {},
   "source": [
    "## Dataset properties\n",
    "\n",
    "- repo: URL of the GitHub repository where the typo was fixed.\n",
    "- commit: The commit hash associated with the typo correction.\n",
    "- message: The commit message that likely mentions the typo fix.\n",
    "- edits: A list of edits made in this commit, where each edit contains:\n",
    "    - src (source): Information about the typo before the fix, including:\n",
    "    - text: The text line that contained the typo.\n",
    "    - path: The file path where the typo was found.\n",
    "    - lang: The language of the text (appears to be \"eng\" for English in these examples).\n",
    "    - ppl: Perplexity score before the typo was fixed.\n",
    "- tgt (target): Information about the corrected text, including similar fields as src and the perplexity score after the fix.\n",
    "- prob_typo: The probability that the detected change was indeed a typo.\n",
    "- is_typo: A boolean indicating whether the change is considered a typo correction.\n",
    "\n",
    "### perplexity score\n",
    "measure of how likely a sequence of words is, given a language model. A higher perplexity might indicate less common or more confusing text."
   ]
  },
  {
   "cell_type": "code",
   "execution_count": null,
   "metadata": {},
   "outputs": [],
   "source": []
  }
 ],
 "metadata": {
  "language_info": {
   "name": "python"
  }
 },
 "nbformat": 4,
 "nbformat_minor": 2
}
