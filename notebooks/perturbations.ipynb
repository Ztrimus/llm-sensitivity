{
 "cells": [
  {
   "cell_type": "markdown",
   "metadata": {},
   "source": [
    "# 1. Perturbations \n",
    "Perturbations are intentional modifications made to data to simulate variations, errors, or noise, aiming to test or improve the robustness and adaptability of models to real-world, imperfect inputs."
   ]
  },
  {
   "cell_type": "markdown",
   "metadata": {},
   "source": [
    "##  1.1. Types of Perturbations\n",
    "\n",
    "Mistakes Humans Make While Interacting with LLMs:\n",
    "1. **Grammatical Mistakes**: Incorrect use of tense, prepositions, article omission or misuse, verb agreement errors, and sentence fragment errors.\n",
    "2. **Spelling Errors**: Typos, homophones (words that sound alike but have different meanings), and commonly confused words (e.g., \"there\" vs. \"their\").\n",
    "3. **Unclear Task Definitions**: Vague questions, incomplete thoughts, or requests that lack specific details necessary for clear understanding.\n",
    "4. **Use of Slang or Informal Language**: Colloquial expressions, regional dialects, internet slang, and abbreviations that may not be universally understood or are too casual for formal contexts.\n",
    "5. **Overly Complex or Compound Queries**: Questions that contain multiple parts or topics, which may not be clearly delineated.\n",
    "6. **Non-standard Syntax**: Inversion of the normal word order, overly complex sentences, or sentences that lack the usual structure.\n",
    "7. **Ambiguity in Queries**: Questions that can be interpreted in multiple ways due to vague wording or lack of context.\n",
    "8. **Use of Jargon or Highly Technical Language**: Specific to certain fields or interests, which might not be universally understood.\n",
    "9. **Assumptions of Common Knowledge**: Questions that assume a base level of knowledge or context that the LLM might not have.\n",
    "10. **Cultural References or Idioms**: Phrases or references that rely on cultural knowledge not shared by all users or the LLM.\n",
    "11. **Inconsistent Formatting**: Mixed use of date formats, currency, units of measurement, or switching between first, second, and third person.\n",
    "12. **Omission of Crucial Information**: Leaving out key details necessary to understand the request or assuming the model has access to external information not provided."
   ]
  },
  {
   "cell_type": "markdown",
   "metadata": {},
   "source": [
    "\n",
    "## 1.2. Techniques for Introducing Perturbations in Text/Questions/Dataset:\n",
    "\n",
    "1. **Rule-Based Error Injection**: Manually define rules for introducing specific types of errors:\n",
    "    - *Sentence Scrambling*: Rearrange the order of words or phrases in a sentence to simulate syntactic errors or unclear task definitions.\n",
    "    - *Homophone Replacement*: Replace words with their homophones to simulate common spelling errors.\n",
    "    - *Omission Simulation*: Randomly omit crucial words or phrases to simulate the omission of information.\n",
    "    - Informal Language Injection: Introduce slang or informal phrases into sentences to simulate casual language use.\n",
    "    - etc.\n",
    "2. **Noise Injection**: To mimic spelling and grammatical errors:\n",
    "    - *Synonym Replacement*: Randomly replace words with their synonyms to simulate the varied vocabulary humans might use. This can also introduce informal language variations.\n",
    "    - Randomly alter characters\n",
    "    - add words\n",
    "    - delete words\n",
    "    - etc.\n",
    "3. **Back Translation**: Translate the text to another language and then back to the original language. This often introduces grammatical inaccuracies and changes in sentence structure.\n",
    "4. **Paraphrasing Tools**: Use AI-based paraphrasing tools to rewrite questions in ways that might introduce ambiguity or complexity.\n",
    "5. **Text Simplification/Complexification**: Use models to either simplify or make the text more complex, aiming to mimic the way different users might phrase the same question.\n",
    "6. **Synthetic Data Generation**: Leverage generative models to create new questions based on the original ones, introducing errors or variations in the process.\n",
    "7. **Keyboard Typing Errors**: Introduce errors based on common typing mistakes, considering keyboard layout (e.g., letters often mistyped because of their proximity)."
   ]
  },
  {
   "cell_type": "markdown",
   "metadata": {},
   "source": [
    "# 2. Implementation in Python\n",
    "1. **Rule-Based Error Injection**: Implement functions to drop random articles, misuse verbs, and introduce common spelling errors.\n",
    "2. **Noise Injection**: Create a function to randomly replace characters or words in sentences, mimicking typographical errors."
   ]
  },
  {
   "cell_type": "code",
   "execution_count": 4,
   "metadata": {},
   "outputs": [],
   "source": [
    "import random\n",
    "import re\n",
    "\n",
    "# Sample questions from a dataset (for demonstration)\n",
    "sample_questions = [\n",
    "    \"What is the capital of France?\",\n",
    "    \"Who wrote the novel '1984'?\",\n",
    "    \"How does photosynthesis work?\"\n",
    "]"
   ]
  },
  {
   "cell_type": "markdown",
   "metadata": {},
   "source": [
    "## 2.1. Rule-Based Error Injection"
   ]
  },
  {
   "cell_type": "code",
   "execution_count": 6,
   "metadata": {},
   "outputs": [],
   "source": [
    "# Rule-based error injection: Introduce grammatical mistakes and spelling errors\n",
    "def rule_based_errors(text):\n",
    "    # Common spelling mistakes\n",
    "    spelling_mistakes = {\n",
    "        'the': ['teh', 'hte', 'thee'],\n",
    "        'is': ['si', 'iz', 'iss'],\n",
    "        'does': ['doe', 'doez', 'dose'],\n",
    "    }\n",
    "    \n",
    "    # Introduce spelling mistakes\n",
    "    for correct, mistakes in spelling_mistakes.items():\n",
    "        text = re.sub(r'\\b' + correct + r'\\b', random.choice(mistakes), text, flags=re.IGNORECASE)\n",
    "    \n",
    "    # Randomly drop articles ('the', 'a')\n",
    "    text = re.sub(r'\\b(the|a)\\b', '', text, flags=re.IGNORECASE)\n",
    "\n",
    "    return text"
   ]
  },
  {
   "cell_type": "markdown",
   "metadata": {},
   "source": [
    "## 2.2. Noise Injection"
   ]
  },
  {
   "cell_type": "code",
   "execution_count": 8,
   "metadata": {},
   "outputs": [],
   "source": [
    "# Noise injection: Randomly alter characters (simulate typos)\n",
    "def noise_injection(text, error_rate=0.1):\n",
    "    letters = 'abcdefghijklmnopqrstuvwxyz'\n",
    "    new_text = ''\n",
    "    for char in text:\n",
    "        if random.random() < error_rate and char.isalpha():\n",
    "            # Simulate typo by replacing the character with a random letter\n",
    "            new_text += random.choice(letters)\n",
    "        else:\n",
    "            new_text += char\n",
    "    return new_text\n"
   ]
  },
  {
   "cell_type": "code",
   "execution_count": 9,
   "metadata": {},
   "outputs": [
    {
     "data": {
      "text/plain": [
       "['What iss hte capital of France?',\n",
       " \"Who frete teh novel '1984'?\",\n",
       " 'How dose protosynthesis work?']"
      ]
     },
     "execution_count": 9,
     "metadata": {},
     "output_type": "execute_result"
    }
   ],
   "source": [
    "# Apply perturbations to sample questions\n",
    "perturbed_questions = [noise_injection(rule_based_errors(q)) for q in sample_questions]\n",
    "perturbed_questions"
   ]
  },
  {
   "cell_type": "markdown",
   "metadata": {},
   "source": [
    "## 2.3. Back Translation"
   ]
  },
  {
   "cell_type": "code",
   "execution_count": 5,
   "metadata": {},
   "outputs": [],
   "source": [
    "# TODO: For Back Translation, use very famous language Hindi, Marathi, Bengali, Mandarin, Spanish, French, Arabic, Russian, Portuguese, German, Japanese, etc"
   ]
  },
  {
   "cell_type": "code",
   "execution_count": null,
   "metadata": {},
   "outputs": [],
   "source": [
    "from transformers import pipeline\n",
    "\n",
    "# Sample sentence from SQuAD\n",
    "sentence = \"What is the capital of France?\"\n",
    "\n",
    "# Define translation pipelines\n",
    "translate_to_french = pipeline('translation_en_to_fr')\n",
    "translate_back_to_english = pipeline('translation_fr_to_en')\n",
    "\n",
    "# Perform back-translation\n",
    "translated_to_french = translate_to_french(sentence)[0]['translation_text']\n",
    "back_translated_to_english = translate_back_to_english(translated_to_french)[0]['translation_text']\n",
    "\n",
    "print(\"Original:\", sentence)\n",
    "print(\"Back Translated:\", back_translated_to_english)"
   ]
  },
  {
   "cell_type": "markdown",
   "metadata": {},
   "source": [
    "## 2.4. Keyboard Typing Errors"
   ]
  },
  {
   "cell_type": "code",
   "execution_count": 35,
   "metadata": {},
   "outputs": [],
   "source": [
    "# TODO: For Keyboard Typing Errors, Create 5X12 matrix with characters mentioned on keyboard accoridng to their position. \n",
    "# Then to create typo replace any character with its adjacent character according to keyboard position.\n",
    "import numpy as np\n",
    "\n",
    "keyboard = np.array([\n",
    "    list('`1234567890-= '),\n",
    "    list('\\tqwertyuiop[]\\\\'),\n",
    "    list('  asdfghjkl;\\' '),\n",
    "    list('  zxcvbnm,./  '),\n",
    "    list('              ')\n",
    "])\n"
   ]
  },
  {
   "cell_type": "code",
   "execution_count": null,
   "metadata": {},
   "outputs": [],
   "source": []
  },
  {
   "cell_type": "code",
   "execution_count": 11,
   "metadata": {},
   "outputs": [],
   "source": [
    "# TODO: For Parapharasing, Can we use writer's style of writing?\n",
    "# how would following author paraphrase the given sentence?\n",
    "# 1. Paulo Coelho\n",
    "# 2. Stephen King\n",
    "# 3. Agatha Christie\n",
    "# 4. J.K. Rowling"
   ]
  },
  {
   "cell_type": "code",
   "execution_count": null,
   "metadata": {},
   "outputs": [],
   "source": []
  }
 ],
 "metadata": {
  "kernelspec": {
   "display_name": ".env",
   "language": "python",
   "name": "python3"
  },
  "language_info": {
   "codemirror_mode": {
    "name": "ipython",
    "version": 3
   },
   "file_extension": ".py",
   "mimetype": "text/x-python",
   "name": "python",
   "nbconvert_exporter": "python",
   "pygments_lexer": "ipython3",
   "version": "3.12.1"
  }
 },
 "nbformat": 4,
 "nbformat_minor": 2
}
